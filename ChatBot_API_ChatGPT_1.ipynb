{
  "cells": [
    {
      "cell_type": "code",
      "execution_count": 2,
      "metadata": {
        "id": "eN40wBnkXgTU"
      },
      "outputs": [],
      "source": [
        "import openai\n",
        "import json\n",
        "import os\n",
        "from dotenv import load_dotenv"
      ]
    },
    {
      "cell_type": "code",
      "execution_count": 27,
      "metadata": {
        "id": "xk7nf_Z-Yhdv"
      },
      "outputs": [
        {
          "name": "stdout",
          "output_type": "stream",
          "text": [
            "Você é\n"
          ]
        }
      ],
      "source": [
        "# Função para carregar as informações da pizzaria de um arquivo JSON\n",
        "def carregar_informacoes_pizzaria():\n",
        "    with open('config_pizzaria.json', 'r', encoding='utf-8') as file:\n",
        "        return json.load(file)\n",
        "    \n",
        "# Função para carregar o contexto\n",
        "def carregar_template_contexto():\n",
        "    with open('context_template.txt', 'r', encoding='utf-8') as file:\n",
        "        return file.read()\n",
        "        "
      ]
    },
    {
      "cell_type": "code",
      "execution_count": null,
      "metadata": {
        "id": "sSpfOAt7Yp9f"
      },
      "outputs": [],
      "source": [
        "# Função para carregar o contexto com informações dinâmicas extraídas de config_pizzaria.json\n",
        "def getContexto():\n",
        "    info = carregar_informacoes_pizzaria()\n",
        "    template_contexto = carregar_template_contexto()\n",
        "    cardapio_str = ', '.join(info['cardapio'].keys())\n",
        "\n",
        "    contexto = template_contexto.format(\n",
        "        nome=info['nome'],\n",
        "        endereco=info['endereco'],\n",
        "        horario_funcionamento=info['horario_funcionamento'],\n",
        "        telefone=info['telefone'],\n",
        "        email=info['email'],\n",
        "        site=info['site'],\n",
        "        cardapio=cardapio_str,\n",
        "        promocoes=info['promocoes'],\n",
        "        forma_pagamento=\", \".join(info['forma_pagamento']),\n",
        "        taxa_entrega=info['taxa_entrega']\n",
        "    )\n",
        "\n",
        "    return contexto\n"
      ]
    },
    {
      "cell_type": "code",
      "execution_count": null,
      "metadata": {
        "id": "SCScCRQc8pxb"
      },
      "outputs": [],
      "source": [
        "# Função para fazer uma pergunta ao ChatGPT com informações dinâmicas\n",
        "def pergunta_chatgpt(pergunta, contexto, messages=None):\n",
        "\n",
        "    if messages == None:\n",
        "        messages = [\n",
        "                {\"role\": \"system\", \"content\": contexto}\n",
        "            ]\n",
        "\n",
        "    messages.append({\"role\": \"user\", \"content\": pergunta})\n",
        "\n",
        "    resposta = openai.ChatCompletion.create(\n",
        "        model=\"gpt-3.5-turbo\",\n",
        "        messages=messages,\n",
        "        max_tokens=250,\n",
        "        temperature=0.3,\n",
        "    )\n",
        "    resposta_content = resposta.choices[0].message['content'].strip()\n",
        "    print(f\"Assistente: {resposta_content}\\n\")\n",
        "    messages.append({\"role\": \"assistant\", \"content\": resposta_content})\n",
        "\n"
      ]
    },
    {
      "cell_type": "code",
      "execution_count": null,
      "metadata": {
        "colab": {
          "base_uri": "https://localhost:8080/"
        },
        "id": "83KJC0XZYuIu",
        "outputId": "a60fc594-ab84-41bd-884e-1081a883e6cf"
      },
      "outputs": [],
      "source": [
        "def main():\n",
        "    if not openai.api_key:\n",
        "        print(\"Erro: A chave da API OpenAI não está configurada.\")\n",
        "        return\n",
        "    print(\"Seja bem-vindo à Pizzaria BOT. Como posso te ajudar?\")\n",
        "\n",
        "    contexto = getContexto()\n",
        "\n",
        "    while True:\n",
        "        pergunta = input(\"Você: \")\n",
        "        if pergunta.lower() in ['sair', 'exit', 'quit', 'tchau', 'até mais']:\n",
        "            print(\"Obrigado! Volte Sempre\")\n",
        "            break\n",
        "        pergunta_chatgpt(pergunta, contexto)\n",
        "\n",
        "if __name__ == \"__main__\":\n",
        "    main()"
      ]
    }
  ],
  "metadata": {
    "colab": {
      "provenance": []
    },
    "kernelspec": {
      "display_name": "pizzabot",
      "language": "python",
      "name": "python3"
    },
    "language_info": {
      "codemirror_mode": {
        "name": "ipython",
        "version": 3
      },
      "file_extension": ".py",
      "mimetype": "text/x-python",
      "name": "python",
      "nbconvert_exporter": "python",
      "pygments_lexer": "ipython3",
      "version": "3.13.1"
    }
  },
  "nbformat": 4,
  "nbformat_minor": 0
}
