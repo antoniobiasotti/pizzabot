{
  "cells": [
    {
      "cell_type": "code",
      "execution_count": null,
      "metadata": {
        "colab": {
          "base_uri": "https://localhost:8080/"
        },
        "id": "PinHJFyCYWqP",
        "outputId": "74adee25-4e1f-4b96-c388-6c36395503f6"
      },
      "outputs": [],
      "source": [
        "!pip install openai==0.27.8\n",
        "!pip install python-dotenv\n"
      ]
    },
    {
      "cell_type": "code",
      "execution_count": null,
      "metadata": {
        "id": "eN40wBnkXgTU"
      },
      "outputs": [],
      "source": [
        "import openai\n",
        "import json\n",
        "\n",
        "import os\n",
        "from dotenv import load_dotenv"
      ]
    },
    {
      "cell_type": "code",
      "execution_count": null,
      "metadata": {
        "id": "a71GKfvp6GU_"
      },
      "outputs": [],
      "source": [
        "# Configurar a chave da API da OpenAI\n",
        "\n",
        "# Carregar as variáveis de ambiente do arquivo .env\n",
        "#load_dotenv()\n",
        "\n",
        "# Agora você pode acessar as variáveis de ambiente\n",
        "#openai.api_key = os.getenv('OPENAI_API_KEY')\n"
      ]
    },
    {
      "cell_type": "code",
      "execution_count": null,
      "metadata": {
        "id": "xk7nf_Z-Yhdv"
      },
      "outputs": [],
      "source": [
        "# Função para carregar as informações da pizzaria de um arquivo JSON\n",
        "def carregar_informacoes_pizzaria():\n",
        "    with open('config_pizzaria.json', 'r', encoding='utf-8') as file:\n",
        "        return json.load(file)"
      ]
    },
    {
      "cell_type": "code",
      "execution_count": null,
      "metadata": {
        "id": "UpZJ7GB8aaoe"
      },
      "outputs": [],
      "source": [
        "# Função para carregar as informações da pizzaria de um arquivo JSON\n",
        "def carregar_template_contexto():\n",
        "    with open('context_template.txt', 'r', encoding='utf-8') as file:\n",
        "        return file.read()"
      ]
    },
    {
      "cell_type": "code",
      "execution_count": null,
      "metadata": {
        "id": "sSpfOAt7Yp9f"
      },
      "outputs": [],
      "source": [
        "# Função para carregar o contexto com informações dinâmicas\n",
        "def getContexto():\n",
        "    info = carregar_informacoes_pizzaria()\n",
        "    template_contexto = carregar_template_contexto()\n",
        "    cardapio_str = ', '.join(info['cardapio'].keys())\n",
        "\n",
        "    contexto = template_contexto.format(\n",
        "        nome=info['nome'],\n",
        "        endereco=info['endereco'],\n",
        "        horario_funcionamento=info['horario_funcionamento'],\n",
        "        telefone=info['telefone'],\n",
        "        email=info['email'],\n",
        "        site=info['site'],\n",
        "        cardapio=cardapio_str,\n",
        "        promocoes=info['promocoes'],\n",
        "        forma_pagamento=\", \".join(info['forma_pagamento']),\n",
        "        taxa_entrega=info['taxa_entrega']\n",
        "    )\n",
        "\n",
        "    return contexto\n"
      ]
    },
    {
      "cell_type": "code",
      "execution_count": null,
      "metadata": {
        "id": "SCScCRQc8pxb"
      },
      "outputs": [],
      "source": [
        "# Função para fazer uma pergunta ao ChatGPT com informações dinâmicas\n",
        "def pergunta_chatgpt(pergunta, contexto):\n",
        "    messages = [\n",
        "        {\"role\": \"system\", \"content\": contexto}\n",
        "    ]\n",
        "\n",
        "    messages.append({\"role\": \"user\", \"content\": pergunta})\n",
        "    resposta = openai.ChatCompletion.create(\n",
        "        model=\"gpt-3.5-turbo\",\n",
        "        messages=messages,\n",
        "        max_tokens=250,\n",
        "        temperature=0.3,\n",
        "    )\n",
        "    resposta_content = resposta.choices[0].message['content'].strip()\n",
        "    print(f\"Assistente: {resposta_content}\\n\")\n",
        "    messages.append({\"role\": \"assistant\", \"content\": resposta_content})\n",
        "\n"
      ]
    },
    {
      "cell_type": "code",
      "execution_count": null,
      "metadata": {
        "colab": {
          "base_uri": "https://localhost:8080/"
        },
        "id": "83KJC0XZYuIu",
        "outputId": "a60fc594-ab84-41bd-884e-1081a883e6cf"
      },
      "outputs": [],
      "source": [
        "def main():\n",
        "    if not openai.api_key:\n",
        "        print(\"Erro: A chave da API OpenAI não está configurada.\")\n",
        "        return\n",
        "    print(\"Seja bem-vindo à Pizzaria BOT. Como posso te ajudar?\")\n",
        "\n",
        "    contexto = getContexto()\n",
        "\n",
        "    while True:\n",
        "        pergunta = input(\"Você: \")\n",
        "        if pergunta.lower() in ['sair', 'exit', 'quit', 'tchau', 'até mais']:\n",
        "            print(\"Obrigado! Volte Sempre\")\n",
        "            break\n",
        "        pergunta_chatgpt(pergunta, contexto)\n",
        "\n",
        "if __name__ == \"__main__\":\n",
        "    main()"
      ]
    },
    {
      "cell_type": "code",
      "execution_count": null,
      "metadata": {
        "id": "arbpx3hl6XVQ"
      },
      "outputs": [],
      "source": [
        "#Se você usar arquivos .env, remova-os da sessão após o uso com o comando:\n",
        "!rm .env"
      ]
    }
  ],
  "metadata": {
    "colab": {
      "provenance": []
    },
    "kernelspec": {
      "display_name": "pizzabot",
      "language": "python",
      "name": "python3"
    },
    "language_info": {
      "name": "python",
      "version": "3.13.1"
    }
  },
  "nbformat": 4,
  "nbformat_minor": 0
}
